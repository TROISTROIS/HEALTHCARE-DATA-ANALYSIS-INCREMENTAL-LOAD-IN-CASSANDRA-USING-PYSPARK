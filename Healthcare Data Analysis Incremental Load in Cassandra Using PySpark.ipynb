{
 "cells": [
  {
   "cell_type": "code",
   "execution_count": 250,
   "outputs": [],
   "source": [
    "from pyspark.sql import SparkSession\n",
    "from pyspark.sql.functions import *\n",
    "from pyspark.sql.types import StringType,IntegerType, DateType\n",
    "import cassandra\n",
    "from cassandra.cluster import Cluster\n",
    "from cassandra.auth import PlainTextAuthProvider\n",
    "import json"
   ],
   "metadata": {
    "collapsed": false,
    "ExecuteTime": {
     "end_time": "2024-07-12T12:03:30.790808400Z",
     "start_time": "2024-07-12T12:03:30.371532700Z"
    }
   }
  },
  {
   "cell_type": "code",
   "execution_count": 275,
   "outputs": [],
   "source": [
    "spark = SparkSession\\\n",
    "    .builder\\\n",
    "    .appName(\"Healthcare Data Analysis Incremental Load in Cassandra Using PySpark\")\\\n",
    "    .enableHiveSupport()\\\n",
    "    .getOrCreate()"
   ],
   "metadata": {
    "collapsed": false,
    "ExecuteTime": {
     "end_time": "2024-07-12T12:18:41.970046400Z",
     "start_time": "2024-07-12T12:18:41.869602600Z"
    }
   }
  },
  {
   "cell_type": "markdown",
   "source": [
    "data directory in hdfs\n",
    "copy files into data directory,\n",
    "read files,\n",
    "create archive directory\n",
    "move files"
   ],
   "metadata": {
    "collapsed": false
   }
  },
  {
   "cell_type": "code",
   "execution_count": 252,
   "outputs": [
    {
     "name": "stdout",
     "output_type": "stream",
     "text": [
      "root\n",
      " |-- patient_id: string (nullable = true)\n",
      " |-- age: integer (nullable = true)\n",
      " |-- gender: string (nullable = true)\n",
      " |-- diagnosis_code: string (nullable = true)\n",
      " |-- diagnosis_description: string (nullable = true)\n",
      " |-- diagnosis_date: date (nullable = true)\n",
      "\n"
     ]
    }
   ],
   "source": [
    "csv_path = [\"health_data_20240707.csv\", \"health_data_20240708.csv\", \"health_data_20240709.csv\", \"health_data_20240710.csv\", \"health_data_20240711.csv\"]\n",
    "data = spark.read.format(\"csv\")\\\n",
    "    .option(\"header\",\"true\")\\\n",
    "    .option(\"multiline\", \"true\")\\\n",
    "    .option(\"inferSchema\", \"true\")\\\n",
    "    .load(csv_path)\n",
    "\n",
    "data.printSchema()"
   ],
   "metadata": {
    "collapsed": false,
    "ExecuteTime": {
     "end_time": "2024-07-12T12:03:31.136594100Z",
     "start_time": "2024-07-12T12:03:30.393252100Z"
    }
   }
  },
  {
   "cell_type": "code",
   "execution_count": 253,
   "outputs": [
    {
     "name": "stdout",
     "output_type": "stream",
     "text": [
      "+----------+---+------+--------------+---------------------+--------------+\n",
      "|patient_id|age|gender|diagnosis_code|diagnosis_description|diagnosis_date|\n",
      "+----------+---+------+--------------+---------------------+--------------+\n",
      "|      P201| 35|  Male|          D567|             Dementia|    2024-07-08|\n",
      "|      P202| 57|  Male|          D123|             Diabetes|    2024-07-08|\n",
      "|      P203| 34|  Male|          H234|  High Blood Pressure|    2024-07-08|\n",
      "|      P204| 48|Female|          S901|               Stroke|    2024-07-08|\n",
      "|      P205| 55|Female|          D123|             Diabetes|    2024-07-08|\n",
      "+----------+---+------+--------------+---------------------+--------------+\n",
      "only showing top 5 rows\n",
      "\n"
     ]
    }
   ],
   "source": [
    "data.show(5)"
   ],
   "metadata": {
    "collapsed": false,
    "ExecuteTime": {
     "end_time": "2024-07-12T12:03:31.152219700Z",
     "start_time": "2024-07-12T12:03:30.681412400Z"
    }
   }
  },
  {
   "cell_type": "code",
   "execution_count": 254,
   "outputs": [
    {
     "name": "stdout",
     "output_type": "stream",
     "text": [
      "+----------+---+------+--------------+---------------------+--------------+\n",
      "|patient_id|age|gender|diagnosis_code|diagnosis_description|diagnosis_date|\n",
      "+----------+---+------+--------------+---------------------+--------------+\n",
      "|         0|  0|     0|             0|                    0|             0|\n",
      "+----------+---+------+--------------+---------------------+--------------+\n",
      "\n"
     ]
    }
   ],
   "source": [
    "# check for null values\n",
    "null_counts = data.select([sum(col(c).isNull().cast('int')).alias(c) for c in data.columns])\n",
    "null_counts.show()"
   ],
   "metadata": {
    "collapsed": false,
    "ExecuteTime": {
     "end_time": "2024-07-12T12:03:31.329701400Z",
     "start_time": "2024-07-12T12:03:30.800800800Z"
    }
   }
  },
  {
   "cell_type": "code",
   "execution_count": 255,
   "outputs": [],
   "source": [
    "# pip install cassandra-driver"
   ],
   "metadata": {
    "collapsed": false,
    "ExecuteTime": {
     "end_time": "2024-07-12T12:03:31.372774300Z",
     "start_time": "2024-07-12T12:03:31.345346Z"
    }
   }
  },
  {
   "cell_type": "code",
   "execution_count": 256,
   "outputs": [
    {
     "name": "stdout",
     "output_type": "stream",
     "text": [
      "3.29.1\n"
     ]
    }
   ],
   "source": [
    "print (cassandra.__version__)"
   ],
   "metadata": {
    "collapsed": false,
    "ExecuteTime": {
     "end_time": "2024-07-12T12:03:31.560272600Z",
     "start_time": "2024-07-12T12:03:31.372774300Z"
    }
   }
  },
  {
   "cell_type": "code",
   "execution_count": 257,
   "outputs": [
    {
     "name": "stdout",
     "output_type": "stream",
     "text": [
      "row:Row(release_version='4.0.0.6816')\n",
      "row[0]:4.0.0.6816\n",
      "Connection Successful!\n"
     ]
    }
   ],
   "source": [
    "# This secure connect bundle is autogenerated when you download your SCB,\n",
    "# if yours is different update the file name below\n",
    "cloud_config= {\n",
    "  'secure_connect_bundle': 'secure-connect-db-healthcare.zip'\n",
    "}\n",
    "\n",
    "# This token JSON file is autogenerated when you download your token,\n",
    "# if yours is different update the file name below\n",
    "with open(\"db_healthcare-token.json\") as f:\n",
    "    secrets = json.load(f)\n",
    "\n",
    "CLIENT_ID = secrets[\"clientId\"]\n",
    "CLIENT_SECRET = secrets[\"secret\"]\n",
    "\n",
    "auth_provider = PlainTextAuthProvider(CLIENT_ID, CLIENT_SECRET)\n",
    "cluster = Cluster(cloud=cloud_config, auth_provider=auth_provider)\n",
    "session = cluster.connect()\n",
    "\n",
    "row = session.execute(\"select release_version from system.local\").one()\n",
    "if row:\n",
    "    print(f\"row:{row}\")\n",
    "    print(f\"row[0]:{row[0]}\")\n",
    "    print(\"Connection Successful!\")\n",
    "else:\n",
    "    print(\"An error occurred.\")"
   ],
   "metadata": {
    "collapsed": false,
    "ExecuteTime": {
     "end_time": "2024-07-12T12:03:44.309650500Z",
     "start_time": "2024-07-12T12:03:31.372774300Z"
    }
   }
  },
  {
   "cell_type": "code",
   "execution_count": 258,
   "outputs": [
    {
     "name": "stdout",
     "output_type": "stream",
     "text": [
      "healthcare_keyspace\n",
      "system_auth\n",
      "system_schema\n",
      "datastax_sla\n",
      "system\n",
      "system_traces\n",
      "data_endpoint_auth\n"
     ]
    }
   ],
   "source": [
    "try:\n",
    "    query = \"\"\"SELECT * FROM system_schema.keyspaces\"\"\"\n",
    "    result = session.execute(query).all()\n",
    "    if result:\n",
    "        for row in result:\n",
    "            print(row[0])\n",
    "except Exception as err:\n",
    "    print(\"Exception occurred:\", err)"
   ],
   "metadata": {
    "collapsed": false,
    "ExecuteTime": {
     "end_time": "2024-07-12T12:03:44.646869100Z",
     "start_time": "2024-07-12T12:03:44.309650500Z"
    }
   }
  },
  {
   "cell_type": "code",
   "execution_count": 259,
   "outputs": [],
   "source": [
    "keyspace = \"healthcare_keyspace\""
   ],
   "metadata": {
    "collapsed": false,
    "ExecuteTime": {
     "end_time": "2024-07-12T12:03:44.659447300Z",
     "start_time": "2024-07-12T12:03:44.646869100Z"
    }
   }
  },
  {
   "cell_type": "code",
   "execution_count": 260,
   "outputs": [
    {
     "name": "stdout",
     "output_type": "stream",
     "text": [
      "Inside healthcare_keyspace\n"
     ]
    }
   ],
   "source": [
    "# use keyspace\n",
    "try:\n",
    "    query = f\"USE {keyspace}\"\n",
    "    session.execute(query)\n",
    "    print(\"Inside healthcare_keyspace\")\n",
    "except Exception as err:\n",
    "    print(\"Exception occurred\", err)"
   ],
   "metadata": {
    "collapsed": false,
    "ExecuteTime": {
     "end_time": "2024-07-12T12:03:45.258975400Z",
     "start_time": "2024-07-12T12:03:44.675123100Z"
    }
   }
  },
  {
   "cell_type": "code",
   "execution_count": 261,
   "outputs": [
    {
     "data": {
      "text/plain": "<cassandra.cluster.ResultSet at 0x202b7ceda90>"
     },
     "execution_count": 261,
     "metadata": {},
     "output_type": "execute_result"
    }
   ],
   "source": [
    "query = \"\"\"DROP TABLE disease_gender_ratio\n",
    "\"\"\"\n",
    "session.execute(query)"
   ],
   "metadata": {
    "collapsed": false,
    "ExecuteTime": {
     "end_time": "2024-07-12T12:03:53.255352900Z",
     "start_time": "2024-07-12T12:03:45.258975400Z"
    }
   }
  },
  {
   "cell_type": "code",
   "execution_count": 262,
   "outputs": [
    {
     "name": "stdout",
     "output_type": "stream",
     "text": [
      "Table created successfully!\n"
     ]
    }
   ],
   "source": [
    "try:\n",
    "    table = \"demo_tb2\"\n",
    "    query = f\"\"\"CREATE TABLE IF NOT EXISTS {keyspace}.{table}\n",
    "    (id INT,\n",
    "    Name VARCHAR,\n",
    "    dept VARCHAR,\n",
    "    email TEXT,\n",
    "    age INT,\n",
    "    PRIMARY KEY(id, dept)\n",
    "    )\"\"\"\n",
    "    session.execute(query)\n",
    "    print(\"Table created successfully!\")\n",
    "except Exception as err:\n",
    "    print(\"Exception occurred:\", err)\n"
   ],
   "metadata": {
    "collapsed": false,
    "ExecuteTime": {
     "end_time": "2024-07-12T12:03:53.547039100Z",
     "start_time": "2024-07-12T12:03:53.255352900Z"
    }
   }
  },
  {
   "cell_type": "code",
   "execution_count": 263,
   "outputs": [
    {
     "name": "stdout",
     "output_type": "stream",
     "text": [
      "demo_tb\n",
      "demo_tb2\n",
      "disease_per_age_group_number_of_patients\n",
      "is_senior_citizen\n",
      "most_common_diseases\n",
      "test_tb\n",
      "weekly_disease_trend\n"
     ]
    }
   ],
   "source": [
    "try:\n",
    "    query = f\"SELECT table_name FROM system_schema.tables WHERE keyspace_name = '{keyspace}'\"\n",
    "    result = session.execute(query)\n",
    "    if result:\n",
    "        for row in result:\n",
    "            print(row[0])\n",
    "    else:\n",
    "        print(\"There are no tables\")\n",
    "except Exception as err:\n",
    "    print(\"Exception Occurred:\", err)\n"
   ],
   "metadata": {
    "collapsed": false,
    "ExecuteTime": {
     "end_time": "2024-07-12T12:03:53.869263500Z",
     "start_time": "2024-07-12T12:03:53.562708700Z"
    }
   }
  },
  {
   "cell_type": "markdown",
   "source": [
    "# 1. Disease Gender Ratio\n",
    "## Calculate the gender ratio for each disease. This will help in identifying if a particular disease is more prevalent in a particular gender. For example, for each diagnosis_code, you could calculate the ratio of male to female patients."
   ],
   "metadata": {
    "collapsed": false
   }
  },
  {
   "cell_type": "code",
   "execution_count": 264,
   "outputs": [],
   "source": [
    "data.createOrReplaceTempView(\"DATA\")"
   ],
   "metadata": {
    "collapsed": false,
    "ExecuteTime": {
     "end_time": "2024-07-12T12:03:53.944388400Z",
     "start_time": "2024-07-12T12:03:53.884940300Z"
    }
   }
  },
  {
   "cell_type": "code",
   "execution_count": 265,
   "outputs": [
    {
     "name": "stdout",
     "output_type": "stream",
     "text": [
      "+--------------+---------------------+------------+----------+--------------------+\n",
      "|diagnosis_code|diagnosis_description|female_count|male_count|male_to_female_ratio|\n",
      "+--------------+---------------------+------------+----------+--------------------+\n",
      "|          R901| Rheumatoid Arthritis|          29|        38|                1.31|\n",
      "|          E234|             Epilepsy|          30|        37|                1.23|\n",
      "|          I456| Irritable Bowel S...|          29|        33|                1.14|\n",
      "|          C345|               Cancer|          36|        40|                1.11|\n",
      "|          H234|  High Blood Pressure|          34|        36|                1.06|\n",
      "+--------------+---------------------+------------+----------+--------------------+\n",
      "only showing top 5 rows\n",
      "\n"
     ]
    }
   ],
   "source": [
    "disease_gender_ratio_query = \"\"\"WITH gender_pivot AS (\n",
    "            SELECT patient_id, age, diagnosis_code, diagnosis_description, diagnosis_date,\n",
    "            CASE WHEN gender = \"Female\" THEN gender END AS Female,\n",
    "            CASE WHEN gender = \"Male\" THEN gender END AS Male\n",
    "            FROM DATA\n",
    "),\n",
    "disease_per_gender AS(\n",
    "SELECT diagnosis_code, diagnosis_description,COUNT(Female) female_count, COUNT(Male) male_count\n",
    "FROM gender_pivot\n",
    "GROUP BY 1,2\n",
    ")\n",
    "\n",
    "SELECT *, ROUND(male_count/female_count,2) AS male_to_female_ratio\n",
    "FROM disease_per_gender\n",
    "ORDER BY male_to_female_ratio DESC;\n",
    "\n",
    "\"\"\"\n",
    "\n",
    "disease_gender_ratio = spark.sql(disease_gender_ratio_query)\n",
    "disease_gender_ratio.show(5)"
   ],
   "metadata": {
    "collapsed": false,
    "ExecuteTime": {
     "end_time": "2024-07-12T12:03:54.265163100Z",
     "start_time": "2024-07-12T12:03:53.913112600Z"
    }
   }
  },
  {
   "cell_type": "code",
   "execution_count": 266,
   "outputs": [
    {
     "name": "stdout",
     "output_type": "stream",
     "text": [
      "Table disease_gender_ratio does not exist in the keyspace healthcare_keyspace, NOW CREATING!!\n",
      "Table disease_gender_ratio CREATED successfully\n",
      "Records successfully INSERTED into Table disease_gender_ratio \n",
      "Now SHOWING the ratio of male to female patients!!\n",
      "Row(diagnosis_code='A456', diagnosis_description='Asthma', female_count=31, male_count=32, male_to_female_ratio=1.0299999713897705)\n",
      "Row(diagnosis_code='C345', diagnosis_description='Cancer', female_count=36, male_count=40, male_to_female_ratio=1.1100000143051147)\n",
      "Row(diagnosis_code='I456', diagnosis_description='Irritable Bowel Syndrome', female_count=29, male_count=33, male_to_female_ratio=1.1399999856948853)\n",
      "Row(diagnosis_code='T789', diagnosis_description='Thyroid Disorder', female_count=33, male_count=32, male_to_female_ratio=0.9700000286102295)\n",
      "Row(diagnosis_code='B234', diagnosis_description='Bronchitis', female_count=29, male_count=21, male_to_female_ratio=0.7200000286102295)\n"
     ]
    }
   ],
   "source": [
    "# INSERT RESULT INTO CASSANDRA\n",
    "try:\n",
    "    table = \"disease_gender_ratio\"\n",
    "\n",
    "    try:\n",
    "        # if the table exists truncate table, if not create table\n",
    "        table_exists = f\"SELECT table_name FROM system_schema.tables WHERE keyspace_name = '{keyspace}' AND table_name = '{table}'\"\n",
    "        result = session.execute(table_exists).one()\n",
    "        if result:\n",
    "            print(f\"Table {table} exists, NOW TRUNCATING!\")\n",
    "            truncate_query = f\"TRUNCATE TABLE {keyspace}.{table}\"\n",
    "            session.execute(truncate_query)\n",
    "        else:\n",
    "            print(f\"Table {table} does not exist in the keyspace {keyspace}, NOW CREATING!!\")\n",
    "            create_query = f\"CREATE TABLE IF NOT EXISTS {keyspace}.{table}(diagnosis_code VARCHAR,diagnosis_description VARCHAR, female_count INT, male_count INT, male_to_female_ratio FLOAT, PRIMARY KEY(diagnosis_code, male_to_female_ratio)) WITH CLUSTERING ORDER BY (male_to_female_ratio DESC)\"\n",
    "            session.execute(create_query)\n",
    "            print(f\"Table {table} CREATED successfully\")\n",
    "    except Exception as err:\n",
    "        print(\"Exception occurred:\", err)\n",
    "\n",
    "    try:\n",
    "        # convert spark dataframe to pandas dataframe\n",
    "        disease_gender_ratio = disease_gender_ratio.toPandas()\n",
    "        for index, row in disease_gender_ratio.iterrows():\n",
    "            insert_query = f\"\"\"\n",
    "            INSERT INTO {keyspace}.{table}\n",
    "            (diagnosis_code, diagnosis_description, female_count, male_count, male_to_female_ratio)\n",
    "            VALUES ('{row['diagnosis_code']}', '{row['diagnosis_description'].replace(\"'\", \"''\")}',\n",
    "            {row['female_count']}, {row['male_count']}, {row['male_to_female_ratio']}) \"\"\"\n",
    "            session.execute(insert_query)\n",
    "        print(f\"Records successfully INSERTED into Table {table} \")\n",
    "    except Exception as err:\n",
    "        print(\"Exception occurred:\", err)\n",
    "\n",
    "    try:\n",
    "        check_data_query = f\"\"\"SELECT diagnosis_code, diagnosis_description, female_count, male_count,male_to_female_ratio FROM {keyspace}.{table} LIMIT 5 \"\"\"\n",
    "        result = session.execute(check_data_query)\n",
    "        if result:\n",
    "            print(\"Now SHOWING the ratio of male to female patients!!\")\n",
    "            for row in result:\n",
    "                print(row)\n",
    "        else:\n",
    "            print(\"No records to retrieve!\")\n",
    "    except Exception as err:\n",
    "        print(\"Exception occurred:\", err)\n",
    "\n",
    "except Exception as err:\n",
    "    print(\"Exception occurred:\", err)\n"
   ],
   "metadata": {
    "collapsed": false,
    "ExecuteTime": {
     "end_time": "2024-07-12T12:04:00.860137100Z",
     "start_time": "2024-07-12T12:03:54.265163100Z"
    }
   }
  },
  {
   "cell_type": "markdown",
   "source": [
    "# 2. Most Common Diseases\n",
    "## Find the top 3 most common diseases in the dataset. This will help in identifying the most prevalent diseases."
   ],
   "metadata": {
    "collapsed": false
   }
  },
  {
   "cell_type": "code",
   "execution_count": 267,
   "outputs": [
    {
     "name": "stdout",
     "output_type": "stream",
     "text": [
      "+--------------+---------------------+-----------+-----+\n",
      "|diagnosis_code|diagnosis_description|total_count|ranks|\n",
      "+--------------+---------------------+-----------+-----+\n",
      "|          C345|               Cancer|         76|    1|\n",
      "|          P678|  Parkinson's Disease|         74|    2|\n",
      "|          D123|             Diabetes|         72|    3|\n",
      "+--------------+---------------------+-----------+-----+\n",
      "\n"
     ]
    }
   ],
   "source": [
    "most_common_diseases_query = \"\"\" WITH disease_rank AS (\n",
    "            SELECT diagnosis_code,\n",
    "            diagnosis_description,\n",
    "            COUNT(*) total_count\n",
    "            FROM DATA\n",
    "            GROUP BY 1,2 ),\n",
    "\n",
    "ranks AS (SELECT diagnosis_code, diagnosis_description, total_count,\n",
    "ROW_NUMBER() OVER(ORDER BY total_count DESC) ranks\n",
    "FROM disease_rank)\n",
    "\n",
    "SELECT diagnosis_code, diagnosis_description,\n",
    "        total_count,ranks\n",
    "        FROM ranks\n",
    "        ORDER BY 4\n",
    "        LIMIT 3\n",
    "        ;\n",
    "\n",
    "\"\"\"\n",
    "most_common_diseases = spark.sql(most_common_diseases_query)\n",
    "most_common_diseases.show(5)"
   ],
   "metadata": {
    "collapsed": false,
    "ExecuteTime": {
     "end_time": "2024-07-12T12:04:01.364058800Z",
     "start_time": "2024-07-12T12:04:00.860137100Z"
    }
   }
  },
  {
   "cell_type": "code",
   "execution_count": 268,
   "outputs": [
    {
     "name": "stdout",
     "output_type": "stream",
     "text": [
      "Table most_common_diseases exists, NOW TRUNCATING!\n",
      "Records successfully INSERTED into Table most_common_diseases \n",
      "Now SHOWING the top 3 most common diseases!!\n",
      "Row(diagnosis_code='C345', diagnosis_description='Cancer', ranks=1, total_count=76)\n",
      "Row(diagnosis_code='D123', diagnosis_description='Diabetes', ranks=3, total_count=72)\n",
      "Row(diagnosis_code='P678', diagnosis_description=\"Parkinson's Disease\", ranks=2, total_count=74)\n"
     ]
    }
   ],
   "source": [
    "# INSERT RESULT INTO CASSANDRA\n",
    "try:\n",
    "    table = \"most_common_diseases\"\n",
    "\n",
    "    try:\n",
    "        # if the table exists truncate table, if not create table\n",
    "        table_exists = f\"SELECT table_name FROM system_schema.tables WHERE keyspace_name = '{keyspace}' AND table_name = '{table}'\"\n",
    "        result = session.execute(table_exists).one()\n",
    "        if result:\n",
    "            print(f\"Table {table} exists, NOW TRUNCATING!\")\n",
    "            truncate_query = f\"TRUNCATE TABLE {keyspace}.{table}\"\n",
    "            session.execute(truncate_query)\n",
    "        else:\n",
    "            print(f\"Table {table} does not exist in the keyspace {keyspace}, NOW CREATING!!\")\n",
    "            create_query = f\"CREATE TABLE IF NOT EXISTS {keyspace}.{table}(diagnosis_code VARCHAR,diagnosis_description VARCHAR,total_count INT, ranks INT, PRIMARY KEY(diagnosis_code))\"\n",
    "            session.execute(create_query)\n",
    "            print(f\"Table {table} CREATED successfully\")\n",
    "    except Exception as err:\n",
    "        print(\"Exception occurred:\", err)\n",
    "\n",
    "    try:\n",
    "        # convert spark dataframe to pandas dataframe\n",
    "        most_common_diseases = most_common_diseases.toPandas()\n",
    "        for index, row in most_common_diseases.iterrows():\n",
    "            insert_query = f\"\"\"\n",
    "            INSERT INTO {keyspace}.{table}\n",
    "            (diagnosis_code, diagnosis_description,total_count, ranks)\n",
    "            VALUES ('{row['diagnosis_code']}', '{row['diagnosis_description'].replace(\"'\", \"''\")}',\n",
    "            {row['total_count']},{row['ranks']}) IF NOT EXISTS\"\"\"\n",
    "            session.execute(insert_query)\n",
    "        print(f\"Records successfully INSERTED into Table {table} \")\n",
    "    except Exception as err:\n",
    "        print(\"Exception occurred:\", err)\n",
    "\n",
    "    try:\n",
    "        check_data_query = f\"\"\"SELECT * FROM {keyspace}.{table} \"\"\"\n",
    "        result = session.execute(check_data_query)\n",
    "        if result:\n",
    "            print(\"Now SHOWING the top 3 most common diseases!!\")\n",
    "            for row in result:\n",
    "                print(row)\n",
    "        else:\n",
    "            print(\"No records to retrieve!\")\n",
    "    except Exception as err:\n",
    "        print(\"Exception occurred:\", err)\n",
    "\n",
    "except Exception as err:\n",
    "    print(\"Exception occurred:\", err)\n"
   ],
   "metadata": {
    "collapsed": false,
    "ExecuteTime": {
     "end_time": "2024-07-12T12:04:04.083748400Z",
     "start_time": "2024-07-12T12:04:01.379690300Z"
    }
   }
  },
  {
   "cell_type": "markdown",
   "source": [
    "# 3. Age Category\n",
    "## Create age categories. For example, you can divide age into groups like '30-40', '41-50', '51-60', '61-70' and so forth. Then, calculate the number of patients in each age category for each disease. This can help understand the age distribution of different diseases."
   ],
   "metadata": {
    "collapsed": false
   }
  },
  {
   "cell_type": "code",
   "execution_count": 269,
   "outputs": [
    {
     "name": "stdout",
     "output_type": "stream",
     "text": [
      "+--------------+---------------------+---------+-----------+\n",
      "|diagnosis_code|diagnosis_description|age_group|total_count|\n",
      "+--------------+---------------------+---------+-----------+\n",
      "|          A456|               Asthma|    30-40|         11|\n",
      "|          A456|               Asthma|    40-50|         23|\n",
      "|          A456|               Asthma|    50-60|         15|\n",
      "|          A456|               Asthma|    60-70|         13|\n",
      "|          A456|               Asthma|       70|          1|\n",
      "|          B234|           Bronchitis|    30-40|         14|\n",
      "|          B234|           Bronchitis|    40-50|         12|\n",
      "|          B234|           Bronchitis|    50-60|         15|\n",
      "|          B234|           Bronchitis|    60-70|          7|\n",
      "|          B234|           Bronchitis|       70|          2|\n",
      "+--------------+---------------------+---------+-----------+\n",
      "only showing top 10 rows\n",
      "\n"
     ]
    }
   ],
   "source": [
    "age_group_query = \"\"\" WITH age_groups AS (SELECT *,\n",
    "CASE\n",
    "WHEN age>= 30 AND age < 40 THEN \"30-40\"\n",
    "WHEN age>= 40 AND age < 50 THEN \"40-50\"\n",
    "WHEN age>= 50 AND age < 60 THEN \"50-60\"\n",
    "WHEN age>= 60 AND age < 70 THEN \"60-70\"\n",
    "ELSE age\n",
    "END AS age_group\n",
    "FROM DATA),\n",
    "\n",
    "counts AS (SELECT diagnosis_code, diagnosis_description, age_group, COUNT(*) AS total_count\n",
    "FROM age_groups\n",
    "GROUP BY 1,2,3\n",
    "ORDER BY 2, 3)\n",
    "\n",
    "SELECT * FROM counts;\n",
    "\"\"\"\n",
    "\n",
    "age_group=spark.sql(age_group_query)\n",
    "age_group.show(10)"
   ],
   "metadata": {
    "collapsed": false,
    "ExecuteTime": {
     "end_time": "2024-07-12T12:04:06.119567400Z",
     "start_time": "2024-07-12T12:04:04.087750400Z"
    }
   }
  },
  {
   "cell_type": "code",
   "execution_count": 270,
   "outputs": [
    {
     "name": "stdout",
     "output_type": "stream",
     "text": [
      "Table disease_per_age_group_number_of_patients exists, NOW TRUNCATING!\n",
      "Records successfully INSERTED into Table disease_per_age_group_number_of_patients \n",
      "Now SHOWING the number of patients in each age category for each disease!!\n",
      "Row(diagnosis_code='A456', age_group='30-40', diagnosis_description='Asthma', total_count=11)\n",
      "Row(diagnosis_code='C345', age_group='30-40', diagnosis_description='Cancer', total_count=19)\n",
      "Row(diagnosis_code='I456', age_group='30-40', diagnosis_description='Irritable Bowel Syndrome', total_count=13)\n",
      "Row(diagnosis_code='T789', age_group='30-40', diagnosis_description='Thyroid Disorder', total_count=12)\n",
      "Row(diagnosis_code='B234', age_group='30-40', diagnosis_description='Bronchitis', total_count=14)\n",
      "Row(diagnosis_code='D123', age_group='30-40', diagnosis_description='Diabetes', total_count=15)\n",
      "Row(diagnosis_code='S901', age_group='30-40', diagnosis_description='Stroke', total_count=10)\n",
      "Row(diagnosis_code='R901', age_group='30-40', diagnosis_description='Rheumatoid Arthritis', total_count=26)\n",
      "Row(diagnosis_code='P678', age_group='30-40', diagnosis_description=\"Parkinson's Disease\", total_count=14)\n",
      "Row(diagnosis_code='H234', age_group='30-40', diagnosis_description='High Blood Pressure', total_count=22)\n",
      "Row(diagnosis_code='H789', age_group='30-40', diagnosis_description='Heart Disease', total_count=14)\n",
      "Row(diagnosis_code='E234', age_group='30-40', diagnosis_description='Epilepsy', total_count=14)\n",
      "Row(diagnosis_code='D567', age_group='30-40', diagnosis_description='Dementia', total_count=17)\n",
      "Row(diagnosis_code='M678', age_group='30-40', diagnosis_description='Malaria', total_count=22)\n",
      "Row(diagnosis_code='L012', age_group='30-40', diagnosis_description='Lung Cancer', total_count=11)\n"
     ]
    }
   ],
   "source": [
    "# INSERT RESULT INTO CASSANDRA\n",
    "try:\n",
    "    table = \"disease_per_age_group_number_of_patients\"\n",
    "\n",
    "    try:\n",
    "        # if the table exists truncate table, if not create table\n",
    "        table_exists = f\"SELECT table_name FROM system_schema.tables WHERE keyspace_name = '{keyspace}' AND table_name = '{table}'\"\n",
    "        result = session.execute(table_exists).one()\n",
    "        if result:\n",
    "            print(f\"Table {table} exists, NOW TRUNCATING!\")\n",
    "            truncate_query = f\"TRUNCATE TABLE {keyspace}.{table}\"\n",
    "            session.execute(truncate_query)\n",
    "        else:\n",
    "            print(f\"Table {table} does not exist in the keyspace {keyspace}, NOW CREATING!!\")\n",
    "            create_query = f\"CREATE TABLE IF NOT EXISTS {keyspace}.{table}(diagnosis_code VARCHAR,diagnosis_description VARCHAR, age_group VARCHAR, total_count INT, PRIMARY KEY(diagnosis_code))\"\n",
    "            session.execute(create_query)\n",
    "            print(f\"Table {table} CREATED successfully\")\n",
    "    except Exception as err:\n",
    "        print(\"Exception occurred:\", err)\n",
    "\n",
    "    try:\n",
    "        # convert spark dataframe to pandas dataframe\n",
    "        age_group = age_group.toPandas()\n",
    "        for index, row in age_group.iterrows():\n",
    "            insert_query = f\"\"\"\n",
    "            INSERT INTO {keyspace}.{table}\n",
    "            (diagnosis_code, diagnosis_description,age_group, total_count)\n",
    "            VALUES ('{row['diagnosis_code']}', '{row['diagnosis_description'].replace(\"'\", \"''\")}','{row['age_group']}', {row['total_count']}) IF NOT EXISTS\"\"\"\n",
    "            session.execute(insert_query)\n",
    "        print(f\"Records successfully INSERTED into Table {table} \")\n",
    "    except Exception as err:\n",
    "        print(\"Exception occurred:\", err)\n",
    "\n",
    "    try:\n",
    "        check_data_query = f\"\"\"SELECT * FROM {keyspace}.{table} \"\"\"\n",
    "        result = session.execute(check_data_query)\n",
    "        if result:\n",
    "            print(\"Now SHOWING the number of patients in each age category for each disease!!\")\n",
    "            for row in result:\n",
    "                print(row)\n",
    "        else:\n",
    "            print(\"No records to retrieve!\")\n",
    "    except Exception as err:\n",
    "        print(\"Exception occurred:\", err)\n",
    "\n",
    "except Exception as err:\n",
    "    print(\"Exception occurred:\", err)\n"
   ],
   "metadata": {
    "collapsed": false,
    "ExecuteTime": {
     "end_time": "2024-07-12T12:04:32.372122400Z",
     "start_time": "2024-07-12T12:04:06.116570400Z"
    }
   }
  },
  {
   "cell_type": "markdown",
   "source": [
    "# 4. Flag for senior patients\n",
    "## Flag patients who are senior citizens (typically, age >= 60 years). This might be useful information since senior citizens might require special healthcare attention or follow-up"
   ],
   "metadata": {
    "collapsed": false
   }
  },
  {
   "cell_type": "code",
   "execution_count": 271,
   "outputs": [
    {
     "name": "stdout",
     "output_type": "stream",
     "text": [
      "+----------+------+-----------------+\n",
      "|patient_id|gender|is_senior_citizen|\n",
      "+----------+------+-----------------+\n",
      "|      P201|  Male|               No|\n",
      "|      P202|  Male|               No|\n",
      "|      P203|  Male|               No|\n",
      "|      P204|Female|               No|\n",
      "|      P205|Female|               No|\n",
      "+----------+------+-----------------+\n",
      "only showing top 5 rows\n",
      "\n"
     ]
    }
   ],
   "source": [
    "senior_citizen_query = \"\"\"SELECT patient_id,gender,\n",
    "CASE WHEN age >= 60 THEN \"Yes\"\n",
    "ELSE \"No\"\n",
    "END AS is_senior_citizen\n",
    "FROM DATA\n",
    "\"\"\"\n",
    "\n",
    "senior_citizen = spark.sql(senior_citizen_query)\n",
    "senior_citizen.show(5)"
   ],
   "metadata": {
    "collapsed": false,
    "ExecuteTime": {
     "end_time": "2024-07-12T12:04:32.490969100Z",
     "start_time": "2024-07-12T12:04:32.377885900Z"
    }
   }
  },
  {
   "cell_type": "code",
   "execution_count": 272,
   "outputs": [
    {
     "name": "stdout",
     "output_type": "stream",
     "text": [
      "Table is_senior_citizen exists, NOW TRUNCATING!\n",
      "Records successfully INSERTED into Table is_senior_citizen \n",
      "Now FLAGGING for senior patients!!\n",
      "Row(patient_id='P241', gender='Female', is_senior_citizen='No')\n",
      "Row(patient_id='P314', gender='Female', is_senior_citizen='No')\n",
      "Row(patient_id='P426', gender='Male', is_senior_citizen='No')\n",
      "Row(patient_id='P842', gender='Female', is_senior_citizen='No')\n",
      "Row(patient_id='P681', gender='Female', is_senior_citizen='No')\n",
      "Row(patient_id='P246', gender='Male', is_senior_citizen='No')\n",
      "Row(patient_id='P448', gender='Male', is_senior_citizen='No')\n"
     ]
    }
   ],
   "source": [
    "# INSERT RESULT INTO CASSANDRA\n",
    "try:\n",
    "    table = \"is_senior_citizen\"\n",
    "\n",
    "    try:\n",
    "        # if the table exists truncate table, if not create table\n",
    "        table_exists = f\"SELECT table_name FROM system_schema.tables WHERE keyspace_name = '{keyspace}' AND table_name = '{table}'\"\n",
    "        result = session.execute(table_exists).one()\n",
    "        if result:\n",
    "            print(f\"Table {table} exists, NOW TRUNCATING!\")\n",
    "            truncate_query = f\"TRUNCATE TABLE {keyspace}.{table}\"\n",
    "            session.execute(truncate_query)\n",
    "        else:\n",
    "            print(f\"Table {table} does not exist in the keyspace {keyspace}, NOW CREATING!!\")\n",
    "            create_query = f\"CREATE TABLE IF NOT EXISTS {keyspace}.{table}(patient_id VARCHAR, gender VARCHAR, is_senior_citizen VARCHAR, PRIMARY KEY(patient_id))\"\n",
    "            session.execute(create_query)\n",
    "            print(f\"Table {table} CREATED successfully\")\n",
    "    except Exception as err:\n",
    "        print(\"Exception occurred:\", err)\n",
    "\n",
    "    try:\n",
    "        # convert spark dataframe to pandas dataframe\n",
    "        senior_citizen = senior_citizen.toPandas()\n",
    "        for index, row in senior_citizen.iterrows():\n",
    "            insert_query = f\"\"\"\n",
    "            INSERT INTO {keyspace}.{table}\n",
    "            (patient_id, gender, is_senior_citizen)\n",
    "            VALUES ('{row['patient_id']}', '{row['gender']}','{row['is_senior_citizen']}')\"\"\"\n",
    "            session.execute(insert_query)\n",
    "        print(f\"Records successfully INSERTED into Table {table} \")\n",
    "    except Exception as err:\n",
    "        print(\"Exception occurred:\", err)\n",
    "\n",
    "    try:\n",
    "        check_data_query = f\"\"\"SELECT * FROM {keyspace}.{table} LIMIT 7\"\"\"\n",
    "        result = session.execute(check_data_query)\n",
    "        if result:\n",
    "            print(\"Now FLAGGING for senior patients!!\")\n",
    "            for row in result:\n",
    "                print(row)\n",
    "        else:\n",
    "            print(\"No records to retrieve!\")\n",
    "    except Exception as err:\n",
    "        print(\"Exception occurred:\", err)\n",
    "\n",
    "except Exception as err:\n",
    "    print(\"Exception occurred:\", err)\n"
   ],
   "metadata": {
    "collapsed": false,
    "ExecuteTime": {
     "end_time": "2024-07-12T12:09:32.178532200Z",
     "start_time": "2024-07-12T12:04:32.498966700Z"
    }
   }
  },
  {
   "cell_type": "markdown",
   "source": [
    "# 5. Disease trend over the week\n",
    "## If you have more than week's data, you can calculate the number of cases of each disease for each day of the week to understand if there's a trend (more cases diagnosed on particular days)."
   ],
   "metadata": {
    "collapsed": false
   }
  },
  {
   "cell_type": "code",
   "execution_count": 273,
   "outputs": [
    {
     "name": "stdout",
     "output_type": "stream",
     "text": [
      "+---------------------+-----------+--------------+\n",
      "|diagnosis_description|day_of_week|counts_per_day|\n",
      "+---------------------+-----------+--------------+\n",
      "|             Diabetes|     Monday|            23|\n",
      "| Irritable Bowel S...|     Sunday|            21|\n",
      "|               Asthma|   Thursday|            18|\n",
      "|             Diabetes|    Tuesday|            22|\n",
      "|        Heart Disease|  Wednesday|            21|\n",
      "+---------------------+-----------+--------------+\n",
      "\n"
     ]
    }
   ],
   "source": [
    "weekly_disease_trend_query = \"\"\" WITH index_of_week AS ( SELECT DAYOFWEEK(diagnosis_date) AS day_of_week, patient_id, diagnosis_description\n",
    "FROM DATA),\n",
    "day_of_week AS (SELECT diagnosis_description, CASE\n",
    "WHEN day_of_week = 1 THEN \"Sunday\"\n",
    "WHEN day_of_week = 2 THEN \"Monday\"\n",
    "WHEN day_of_week = 3 THEN \"Tuesday\"\n",
    "WHEN day_of_week = 4 THEN \"Wednesday\"\n",
    "WHEN day_of_week = 5 THEN \"Thursday\"\n",
    "WHEN day_of_week = 6 THEN \"Friday\"\n",
    "WHEN day_of_week = 1 THEN \"Saturday\"\n",
    "END AS day_of_week\n",
    "FROM index_of_week),\n",
    "\n",
    "disease_per_day(SELECT diagnosis_description,day_of_week, COUNT(*) counts_per_day\n",
    "FROM day_of_week\n",
    "GROUP BY 1,2\n",
    "ORDER BY 2),\n",
    "\n",
    "ranks AS (SELECT *,\n",
    "DENSE_RANK() OVER(PARTITION BY day_of_week ORDER BY counts_per_day DESC) AS ranks FROM disease_per_day)\n",
    "\n",
    "SELECT diagnosis_description, day_of_week, counts_per_day\n",
    "FROM ranks\n",
    "WHERE ranks = 1\n",
    ";\n",
    "\"\"\"\n",
    "weekly_disease_trend = spark.sql(weekly_disease_trend_query)\n",
    "weekly_disease_trend.show( )"
   ],
   "metadata": {
    "collapsed": false,
    "ExecuteTime": {
     "end_time": "2024-07-12T12:09:33.550301Z",
     "start_time": "2024-07-12T12:09:32.178532200Z"
    }
   }
  },
  {
   "cell_type": "code",
   "execution_count": 274,
   "outputs": [
    {
     "name": "stdout",
     "output_type": "stream",
     "text": [
      "Table weekly_disease_trend exists, NOW TRUNCATING!\n",
      "Records successfully INSERTED into Table weekly_disease_trend \n",
      "Now SHOWING disease trend over the week!!\n",
      "Row(day_of_week='Thursday', counts_per_day=18, diagnosis_description='Asthma')\n",
      "Row(day_of_week='Wednesday', counts_per_day=21, diagnosis_description='Heart Disease')\n",
      "Row(day_of_week='Sunday', counts_per_day=21, diagnosis_description='Irritable Bowel Syndrome')\n",
      "Row(day_of_week='Monday', counts_per_day=23, diagnosis_description='Diabetes')\n",
      "Row(day_of_week='Tuesday', counts_per_day=22, diagnosis_description='Diabetes')\n"
     ]
    }
   ],
   "source": [
    "# INSERT RESULT INTO CASSANDRA\n",
    "try:\n",
    "    table = \"weekly_disease_trend\"\n",
    "\n",
    "    try:\n",
    "        # if the table exists truncate table, if not create table\n",
    "        table_exists = f\"SELECT table_name FROM system_schema.tables WHERE keyspace_name = '{keyspace}' AND table_name = '{table}'\"\n",
    "        result = session.execute(table_exists).one()\n",
    "        if result:\n",
    "            print(f\"Table {table} exists, NOW TRUNCATING!\")\n",
    "            truncate_query = f\"TRUNCATE TABLE {keyspace}.{table}\"\n",
    "            session.execute(truncate_query)\n",
    "        else:\n",
    "            print(f\"Table {table} does not exist in the keyspace {keyspace}, NOW CREATING!!\")\n",
    "            create_query = f\"CREATE TABLE IF NOT EXISTS {keyspace}.{table}(diagnosis_description VARCHAR, day_of_week VARCHAR, counts_per_day INT, PRIMARY KEY(day_of_week))\"\n",
    "            session.execute(create_query)\n",
    "            print(f\"Table {table} CREATED successfully\")\n",
    "    except Exception as err:\n",
    "        print(\"Exception occurred:\", err)\n",
    "\n",
    "    try:\n",
    "        # convert spark dataframe to pandas dataframe\n",
    "        weekly_disease_trend = weekly_disease_trend.toPandas()\n",
    "        for index, row in weekly_disease_trend.iterrows():\n",
    "            insert_query = f\"\"\"\n",
    "            INSERT INTO {keyspace}.{table}\n",
    "            (diagnosis_description, day_of_week, counts_per_day)\n",
    "            VALUES ('{row['diagnosis_description'].replace(\"'\", \"''\")}', '{row['day_of_week']}', {row['counts_per_day']})\"\"\"\n",
    "            session.execute(insert_query)\n",
    "        print(f\"Records successfully INSERTED into Table {table} \")\n",
    "    except Exception as err:\n",
    "        print(\"Exception occurred:\", err)\n",
    "\n",
    "    try:\n",
    "        check_data_query = f\"\"\"SELECT * FROM {keyspace}.{table} LIMIT 7\"\"\"\n",
    "        result = session.execute(check_data_query)\n",
    "        if result:\n",
    "            print(\"Now SHOWING disease trend over the week!!\")\n",
    "            for row in result:\n",
    "                print(row)\n",
    "        else:\n",
    "            print(\"No records to retrieve!\")\n",
    "    except Exception as err:\n",
    "        print(\"Exception occurred:\", err)\n",
    "\n",
    "except Exception as err:\n",
    "    print(\"Exception occurred:\", err)\n"
   ],
   "metadata": {
    "collapsed": false,
    "ExecuteTime": {
     "end_time": "2024-07-12T12:09:36.694672Z",
     "start_time": "2024-07-12T12:09:33.560295800Z"
    }
   }
  },
  {
   "cell_type": "code",
   "execution_count": 274,
   "outputs": [],
   "source": [
    "# List and move files individually\n",
    "file_list = dbutils.fs.ls(data_directory)\n",
    "for file in file_list:\n",
    "    if file.name.endswith(\".csv\"):\n",
    "        print(f\"{file} Moved in archive folder\")\n",
    "        dbutils.fs.mv(file.path, os.path.join(archive_directory, file.name))"
   ],
   "metadata": {
    "collapsed": false,
    "ExecuteTime": {
     "end_time": "2024-07-12T12:09:36.749756500Z",
     "start_time": "2024-07-12T12:09:36.694672Z"
    }
   }
  }
 ],
 "metadata": {
  "kernelspec": {
   "display_name": "Python 3",
   "language": "python",
   "name": "python3"
  },
  "language_info": {
   "codemirror_mode": {
    "name": "ipython",
    "version": 2
   },
   "file_extension": ".py",
   "mimetype": "text/x-python",
   "name": "python",
   "nbconvert_exporter": "python",
   "pygments_lexer": "ipython2",
   "version": "2.7.6"
  }
 },
 "nbformat": 4,
 "nbformat_minor": 0
}
